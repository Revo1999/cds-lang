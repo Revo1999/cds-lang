{
 "cells": [
  {
   "cell_type": "markdown",
   "metadata": {},
   "source": [
    "# Language analytics - Session 2"
   ]
  },
  {
   "cell_type": "code",
   "execution_count": 3,
   "metadata": {},
   "outputs": [],
   "source": [
    "colors = [\"red\", \"green\", \"blue\"]"
   ]
  },
  {
   "cell_type": "markdown",
   "metadata": {},
   "source": [
    "## For-loops & if/else"
   ]
  },
  {
   "cell_type": "code",
   "execution_count": 11,
   "metadata": {},
   "outputs": [
    {
     "name": "stdout",
     "output_type": "stream",
     "text": [
      "red\n",
      "green\n",
      "blue\n"
     ]
    }
   ],
   "source": [
    "# For-loops\n",
    "\n",
    "for color in colors:\n",
    "    print(color)\n"
   ]
  },
  {
   "cell_type": "code",
   "execution_count": 13,
   "metadata": {},
   "outputs": [
    {
     "name": "stdout",
     "output_type": "stream",
     "text": [
      "RED!!\n",
      "GREEN!!\n",
      "BLUE!!\n"
     ]
    }
   ],
   "source": [
    "for color in colors:\n",
    "    print(color.upper() + \"!!\")"
   ]
  },
  {
   "cell_type": "code",
   "execution_count": 15,
   "metadata": {},
   "outputs": [
    {
     "name": "stdout",
     "output_type": "stream",
     "text": [
      "['RED!!', 'GREEN!!', 'BLUE!!']\n"
     ]
    }
   ],
   "source": [
    "#Make the product global\n",
    "\n",
    "new_list = []\n",
    "\n",
    "for color in colors:\n",
    "    shouted_color = color.upper() + \"!!\"\n",
    "    new_list.append(shouted_color)\n",
    "\n",
    "print(new_list)"
   ]
  },
  {
   "cell_type": "code",
   "execution_count": 19,
   "metadata": {},
   "outputs": [
    {
     "name": "stdout",
     "output_type": "stream",
     "text": [
      "*red*\n",
      "GREEN!!\n",
      "blue\n"
     ]
    }
   ],
   "source": [
    "for color in colors:\n",
    "    if color == \"green\":\n",
    "        print(color.upper() + \"!!\")\n",
    "    elif color == \"red\":\n",
    "        print(\"*\" + color + \"*\")\n",
    "    else:\n",
    "        print(color)"
   ]
  },
  {
   "cell_type": "code",
   "execution_count": 20,
   "metadata": {},
   "outputs": [],
   "source": [
    "weird_list = [\"red\", \"green\", 10, \"blue\"]"
   ]
  },
  {
   "cell_type": "code",
   "execution_count": 24,
   "metadata": {},
   "outputs": [
    {
     "name": "stdout",
     "output_type": "stream",
     "text": [
      "Not a number\n",
      "Not a number\n",
      "5.0\n",
      "Not a number\n"
     ]
    }
   ],
   "source": [
    "for value in weird_list:\n",
    "    if type(value) == int:\n",
    "        print(value/2)\n",
    "    else:\n",
    "        print(\"Not a number\")\n",
    "\n",
    "\n"
   ]
  },
  {
   "cell_type": "code",
   "execution_count": 25,
   "metadata": {},
   "outputs": [
    {
     "name": "stdout",
     "output_type": "stream",
     "text": [
      "NaN\n",
      "NaN\n",
      "5.0\n",
      "NaN\n"
     ]
    }
   ],
   "source": [
    "# Exception handling\n",
    "\n",
    "for value in weird_list:\n",
    "    try:\n",
    "        print(value/2)\n",
    "    except:\n",
    "        print(\"NaN\")"
   ]
  },
  {
   "cell_type": "code",
   "execution_count": null,
   "metadata": {},
   "outputs": [],
   "source": []
  }
 ],
 "metadata": {
  "kernelspec": {
   "display_name": "Python 3",
   "language": "python",
   "name": "python3"
  },
  "language_info": {
   "codemirror_mode": {
    "name": "ipython",
    "version": 3
   },
   "file_extension": ".py",
   "mimetype": "text/x-python",
   "name": "python",
   "nbconvert_exporter": "python",
   "pygments_lexer": "ipython3",
   "version": "3.10.12"
  }
 },
 "nbformat": 4,
 "nbformat_minor": 2
}
